{
 "cells": [
  {
   "cell_type": "code",
   "execution_count": 4,
   "id": "4a2c5ff1-a922-4761-b569-fb889a8d385b",
   "metadata": {},
   "outputs": [],
   "source": [
    "import pandas as pd\n",
    "\n",
    "# Define columns based on lizard output order (without end_line)\n",
    "columns = [\"nloc\", \"CCN\", \"token_count\", \"parameter_count\", \"length\", \"location\", \"filename\", \"filepath\", \"function_name\", \"signature\", \"start_line\"]\n",
    "\n",
    "# Load CSV (no header)\n",
    "df = pd.read_csv('C:/Users/Prerana/Desktop/Code_Review_Analytics/cra/flask/output_with_headers.csv')\n",
    "\n",
    "# Convert needed columns to int\n",
    "df['start_line'] = df['start_line'].astype(int)\n",
    "df['length'] = df['length'].astype(int)\n",
    "\n",
    "# Calculate end_line\n",
    "df['end_line'] = df['start_line'] + df['length'] - 1\n",
    "\n",
    "# Save new CSV with end_line included\n",
    "df.to_csv('output_with_end_line.csv', index=False)\n"
   ]
  },
  {
   "cell_type": "code",
   "execution_count": 5,
   "id": "b0164c1a-8a7f-410a-884a-5d2912423496",
   "metadata": {},
   "outputs": [],
   "source": [
    "# Filter rows where CCN (Cyclomatic Complexity Number) is greater than 10\n",
    "high_ccn_df = df[df['CCN'] > 10]\n",
    "\n",
    "# Save to a new CSV file\n",
    "high_ccn_df.to_csv('output_ccn_gt_10.csv', index=False)\n"
   ]
  },
  {
   "cell_type": "code",
   "execution_count": null,
   "id": "e6a9f796-4e48-440a-acf0-020f91d73e88",
   "metadata": {},
   "outputs": [],
   "source": []
  }
 ],
 "metadata": {
  "kernelspec": {
   "display_name": "Python 3 (ipykernel)",
   "language": "python",
   "name": "python3"
  },
  "language_info": {
   "codemirror_mode": {
    "name": "ipython",
    "version": 3
   },
   "file_extension": ".py",
   "mimetype": "text/x-python",
   "name": "python",
   "nbconvert_exporter": "python",
   "pygments_lexer": "ipython3",
   "version": "3.11.5"
  }
 },
 "nbformat": 4,
 "nbformat_minor": 5
}
